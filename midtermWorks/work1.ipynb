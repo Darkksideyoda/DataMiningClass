{
 "cells": [
  {
   "cell_type": "code",
   "execution_count": 49,
   "metadata": {},
   "outputs": [],
   "source": [
    "import pandas as pd\n",
    "import numpy as np\n",
    "import seaborn as sb\n",
    "from sklearn import preprocessing\n"
   ]
  },
  {
   "cell_type": "code",
   "execution_count": null,
   "metadata": {},
   "outputs": [],
   "source": [
    "penguins = sb.load_dataset(\"penguins\")\n",
    "df = penguins.copy()\n",
    "df.head()"
   ]
  },
  {
   "cell_type": "code",
   "execution_count": null,
   "metadata": {},
   "outputs": [],
   "source": [
    "df.rename(columns={\"species\":\"Turler\",\"island\":\"Ada\"},inplace=True)\n",
    "df.head()"
   ]
  },
  {
   "cell_type": "code",
   "execution_count": 14,
   "metadata": {},
   "outputs": [
    {
     "data": {
      "text/plain": [
       "True"
      ]
     },
     "execution_count": 14,
     "metadata": {},
     "output_type": "execute_result"
    }
   ],
   "source": [
    "df.isnull().values.any() #tum veri setinde eksik gozlem var mı"
   ]
  },
  {
   "cell_type": "code",
   "execution_count": null,
   "metadata": {},
   "outputs": [],
   "source": [
    "df.isnull().sum() #hangi nitelikte kac adet eksik veri var."
   ]
  },
  {
   "cell_type": "code",
   "execution_count": null,
   "metadata": {},
   "outputs": [],
   "source": [
    "x1=np.linspace(0, np.pi*2)\n",
    "y2=np.sin(x1)\n",
    "\n",
    "d3 = [1,2,3,4,5]\n",
    "d4 = [1,2,3,4,5]\n",
    "\n",
    "\n",
    "\n",
    "plot1 = sb.lineplot(x=x1,y=y2,color='red',linewidth=10,linestyle=\"dashdot\")\n",
    "plot1.set_xlabel(\"X degiskeni\")\n",
    "plot1.set_ylabel(\"Y degiskeni\")\n",
    "plot1.set_title(\"Sin Grafigi\")\n",
    "\n",
    "\n",
    "\n",
    "\n",
    "plot2 = sb.lineplot(x = d3,y = d4)\n",
    "plot2.set_xlabel(\"X degiskeni\")\n",
    "plot2.set_ylabel(\"Y degiskeni\")\n",
    "plot2.set_title(\"Lineer Graph\")\n",
    "\n",
    "\n",
    "\n",
    "normalized_X=preprocessing.normalize(df.bill_depth_mm)\n",
    "normalized_X\n",
    "standardized_X=preprocessing.scale(df.bill_depth_mm)\n",
    "standardized_X"
   ]
  },
  {
   "cell_type": "code",
   "execution_count": null,
   "metadata": {},
   "outputs": [],
   "source": []
  },
  {
   "cell_type": "code",
   "execution_count": null,
   "metadata": {},
   "outputs": [],
   "source": []
  }
 ],
 "metadata": {
  "interpreter": {
   "hash": "e0cea716b7fdae2c8d03f1b2985ddf87a11cc92376137b0e3ad98ef91a2b0011"
  },
  "kernelspec": {
   "display_name": "Python 3.8.8 64-bit ('base': conda)",
   "language": "python",
   "name": "python3"
  },
  "language_info": {
   "codemirror_mode": {
    "name": "ipython",
    "version": 3
   },
   "file_extension": ".py",
   "mimetype": "text/x-python",
   "name": "python",
   "nbconvert_exporter": "python",
   "pygments_lexer": "ipython3",
   "version": "3.8.8"
  },
  "orig_nbformat": 4
 },
 "nbformat": 4,
 "nbformat_minor": 2
}
