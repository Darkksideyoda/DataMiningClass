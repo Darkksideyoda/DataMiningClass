{
 "cells": [
  {
   "cell_type": "code",
   "execution_count": 1,
   "metadata": {},
   "outputs": [],
   "source": [
    "import pandas_datareader as pr"
   ]
  },
  {
   "cell_type": "code",
   "execution_count": 2,
   "metadata": {},
   "outputs": [
    {
     "data": {
      "text/html": [
       "<div>\n",
       "<style scoped>\n",
       "    .dataframe tbody tr th:only-of-type {\n",
       "        vertical-align: middle;\n",
       "    }\n",
       "\n",
       "    .dataframe tbody tr th {\n",
       "        vertical-align: top;\n",
       "    }\n",
       "\n",
       "    .dataframe thead th {\n",
       "        text-align: right;\n",
       "    }\n",
       "</style>\n",
       "<table border=\"1\" class=\"dataframe\">\n",
       "  <thead>\n",
       "    <tr style=\"text-align: right;\">\n",
       "      <th></th>\n",
       "      <th>High</th>\n",
       "      <th>Low</th>\n",
       "      <th>Open</th>\n",
       "      <th>Close</th>\n",
       "      <th>Volume</th>\n",
       "      <th>Adj Close</th>\n",
       "    </tr>\n",
       "    <tr>\n",
       "      <th>Date</th>\n",
       "      <th></th>\n",
       "      <th></th>\n",
       "      <th></th>\n",
       "      <th></th>\n",
       "      <th></th>\n",
       "      <th></th>\n",
       "    </tr>\n",
       "  </thead>\n",
       "  <tbody>\n",
       "    <tr>\n",
       "      <th>2016-01-04</th>\n",
       "      <td>26.342501</td>\n",
       "      <td>25.500000</td>\n",
       "      <td>25.652500</td>\n",
       "      <td>26.337500</td>\n",
       "      <td>270597600.0</td>\n",
       "      <td>24.286831</td>\n",
       "    </tr>\n",
       "    <tr>\n",
       "      <th>2016-01-05</th>\n",
       "      <td>26.462500</td>\n",
       "      <td>25.602501</td>\n",
       "      <td>26.437500</td>\n",
       "      <td>25.677500</td>\n",
       "      <td>223164000.0</td>\n",
       "      <td>23.678215</td>\n",
       "    </tr>\n",
       "    <tr>\n",
       "      <th>2016-01-06</th>\n",
       "      <td>25.592501</td>\n",
       "      <td>24.967501</td>\n",
       "      <td>25.139999</td>\n",
       "      <td>25.174999</td>\n",
       "      <td>273829600.0</td>\n",
       "      <td>23.214846</td>\n",
       "    </tr>\n",
       "    <tr>\n",
       "      <th>2016-01-07</th>\n",
       "      <td>25.032499</td>\n",
       "      <td>24.107500</td>\n",
       "      <td>24.670000</td>\n",
       "      <td>24.112499</td>\n",
       "      <td>324377600.0</td>\n",
       "      <td>22.235067</td>\n",
       "    </tr>\n",
       "    <tr>\n",
       "      <th>2016-01-08</th>\n",
       "      <td>24.777500</td>\n",
       "      <td>24.190001</td>\n",
       "      <td>24.637501</td>\n",
       "      <td>24.240000</td>\n",
       "      <td>283192000.0</td>\n",
       "      <td>22.352642</td>\n",
       "    </tr>\n",
       "  </tbody>\n",
       "</table>\n",
       "</div>"
      ],
      "text/plain": [
       "                 High        Low       Open      Close       Volume  Adj Close\n",
       "Date                                                                          \n",
       "2016-01-04  26.342501  25.500000  25.652500  26.337500  270597600.0  24.286831\n",
       "2016-01-05  26.462500  25.602501  26.437500  25.677500  223164000.0  23.678215\n",
       "2016-01-06  25.592501  24.967501  25.139999  25.174999  273829600.0  23.214846\n",
       "2016-01-07  25.032499  24.107500  24.670000  24.112499  324377600.0  22.235067\n",
       "2016-01-08  24.777500  24.190001  24.637501  24.240000  283192000.0  22.352642"
      ]
     },
     "execution_count": 2,
     "metadata": {},
     "output_type": "execute_result"
    }
   ],
   "source": [
    "df = pr.get_data_yahoo(\"AAPL\",start=\"2016-01-01\",end=\"2021-10-30\")\n",
    "df.head()"
   ]
  },
  {
   "cell_type": "code",
   "execution_count": 3,
   "metadata": {},
   "outputs": [
    {
     "data": {
      "text/html": [
       "<div>\n",
       "<style scoped>\n",
       "    .dataframe tbody tr th:only-of-type {\n",
       "        vertical-align: middle;\n",
       "    }\n",
       "\n",
       "    .dataframe tbody tr th {\n",
       "        vertical-align: top;\n",
       "    }\n",
       "\n",
       "    .dataframe thead th {\n",
       "        text-align: right;\n",
       "    }\n",
       "</style>\n",
       "<table border=\"1\" class=\"dataframe\">\n",
       "  <thead>\n",
       "    <tr style=\"text-align: right;\">\n",
       "      <th></th>\n",
       "      <th>High</th>\n",
       "      <th>Low</th>\n",
       "      <th>Open</th>\n",
       "      <th>Close</th>\n",
       "      <th>Volume</th>\n",
       "      <th>Adj Close</th>\n",
       "    </tr>\n",
       "    <tr>\n",
       "      <th>Date</th>\n",
       "      <th></th>\n",
       "      <th></th>\n",
       "      <th></th>\n",
       "      <th></th>\n",
       "      <th></th>\n",
       "      <th></th>\n",
       "    </tr>\n",
       "  </thead>\n",
       "  <tbody>\n",
       "    <tr>\n",
       "      <th>2021-10-25</th>\n",
       "      <td>149.369995</td>\n",
       "      <td>147.619995</td>\n",
       "      <td>148.679993</td>\n",
       "      <td>148.639999</td>\n",
       "      <td>50720600.0</td>\n",
       "      <td>148.639999</td>\n",
       "    </tr>\n",
       "    <tr>\n",
       "      <th>2021-10-26</th>\n",
       "      <td>150.839996</td>\n",
       "      <td>149.009995</td>\n",
       "      <td>149.330002</td>\n",
       "      <td>149.320007</td>\n",
       "      <td>60893400.0</td>\n",
       "      <td>149.320007</td>\n",
       "    </tr>\n",
       "    <tr>\n",
       "      <th>2021-10-27</th>\n",
       "      <td>149.729996</td>\n",
       "      <td>148.490005</td>\n",
       "      <td>149.360001</td>\n",
       "      <td>148.850006</td>\n",
       "      <td>56094900.0</td>\n",
       "      <td>148.850006</td>\n",
       "    </tr>\n",
       "    <tr>\n",
       "      <th>2021-10-28</th>\n",
       "      <td>153.169998</td>\n",
       "      <td>149.720001</td>\n",
       "      <td>149.820007</td>\n",
       "      <td>152.570007</td>\n",
       "      <td>100077900.0</td>\n",
       "      <td>152.570007</td>\n",
       "    </tr>\n",
       "    <tr>\n",
       "      <th>2021-10-29</th>\n",
       "      <td>149.940002</td>\n",
       "      <td>146.410004</td>\n",
       "      <td>147.220001</td>\n",
       "      <td>149.800003</td>\n",
       "      <td>124850400.0</td>\n",
       "      <td>149.800003</td>\n",
       "    </tr>\n",
       "  </tbody>\n",
       "</table>\n",
       "</div>"
      ],
      "text/plain": [
       "                  High         Low        Open       Close       Volume  \\\n",
       "Date                                                                      \n",
       "2021-10-25  149.369995  147.619995  148.679993  148.639999   50720600.0   \n",
       "2021-10-26  150.839996  149.009995  149.330002  149.320007   60893400.0   \n",
       "2021-10-27  149.729996  148.490005  149.360001  148.850006   56094900.0   \n",
       "2021-10-28  153.169998  149.720001  149.820007  152.570007  100077900.0   \n",
       "2021-10-29  149.940002  146.410004  147.220001  149.800003  124850400.0   \n",
       "\n",
       "             Adj Close  \n",
       "Date                    \n",
       "2021-10-25  148.639999  \n",
       "2021-10-26  149.320007  \n",
       "2021-10-27  148.850006  \n",
       "2021-10-28  152.570007  \n",
       "2021-10-29  149.800003  "
      ]
     },
     "execution_count": 3,
     "metadata": {},
     "output_type": "execute_result"
    }
   ],
   "source": [
    "df.tail()"
   ]
  },
  {
   "cell_type": "code",
   "execution_count": 5,
   "metadata": {},
   "outputs": [
    {
     "data": {
      "text/plain": [
       "Date\n",
       "2016-01-04    26.337500\n",
       "2016-01-05    25.677500\n",
       "2016-01-06    25.174999\n",
       "2016-01-07    24.112499\n",
       "2016-01-08    24.240000\n",
       "Name: Close, dtype: float64"
      ]
     },
     "execution_count": 5,
     "metadata": {},
     "output_type": "execute_result"
    }
   ],
   "source": [
    "kapanis = df[\"Close\"]\n",
    "kapanis.head()"
   ]
  },
  {
   "cell_type": "code",
   "execution_count": 6,
   "metadata": {},
   "outputs": [
    {
     "data": {
      "text/plain": [
       "<AxesSubplot:xlabel='Date'>"
      ]
     },
     "execution_count": 6,
     "metadata": {},
     "output_type": "execute_result"
    },
    {
     "data": {
      "image/png": "[encoded data removed]",
      "text/plain": [
       "<Figure size 432x288 with 1 Axes>"
      ]
     },
     "metadata": {
      "needs_background": "light"
     },
     "output_type": "display_data"
    }
   ],
   "source": [
    "kapanis.plot()"
   ]
  },
  {
   "cell_type": "code",
   "execution_count": 7,
   "metadata": {},
   "outputs": [
    {
     "data": {
      "text/plain": [
       "DatetimeIndex(['2016-01-04', '2016-01-05', '2016-01-06', '2016-01-07',\n",
       "               '2016-01-08', '2016-01-11', '2016-01-12', '2016-01-13',\n",
       "               '2016-01-14', '2016-01-15',\n",
       "               ...\n",
       "               '2021-10-18', '2021-10-19', '2021-10-20', '2021-10-21',\n",
       "               '2021-10-22', '2021-10-25', '2021-10-26', '2021-10-27',\n",
       "               '2021-10-28', '2021-10-29'],\n",
       "              dtype='datetime64[ns]', name='Date', length=1468, freq=None)"
      ]
     },
     "execution_count": 7,
     "metadata": {},
     "output_type": "execute_result"
    }
   ],
   "source": [
    "kapanis.index"
   ]
  }
 ],
 "metadata": {
  "interpreter": {
   "hash": "e0cea716b7fdae2c8d03f1b2985ddf87a11cc92376137b0e3ad98ef91a2b0011"
  },
  "kernelspec": {
   "display_name": "Python 3.8.8 64-bit ('base': conda)",
   "name": "python3"
  },
  "language_info": {
   "codemirror_mode": {
    "name": "ipython",
    "version": 3
   },
   "file_extension": ".py",
   "mimetype": "text/x-python",
   "name": "python",
   "nbconvert_exporter": "python",
   "pygments_lexer": "ipython3",
   "version": "3.8.8"
  },
  "orig_nbformat": 4
 },
 "nbformat": 4,
 "nbformat_minor": 2
}
