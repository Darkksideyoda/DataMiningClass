{
 "cells": [
  {
   "cell_type": "code",
   "execution_count": 1,
   "metadata": {},
   "outputs": [],
   "source": [
    "import pandas as pd\n",
    "import numpy as np"
   ]
  },
  {
   "cell_type": "code",
   "execution_count": 5,
   "metadata": {},
   "outputs": [],
   "source": [
    "trainDS=pd.read_excel('Data_User_Modeling_Dataset_birlestirme.xls', \n",
    "                      sheet_name='Training_Data', \n",
    "                      index_col=None, usecols=[0,1,2,3,4])\n",
    "\n",
    "\n",
    "trainDS2=pd.read_excel('Data_User_Modeling_Dataset_birlestirme.xls', \n",
    "                       sheet_name='Training_Data2', \n",
    "                      index_col=None, usecols=[0,1])\n",
    "\n"
   ]
  },
  {
   "cell_type": "code",
   "execution_count": 6,
   "metadata": {},
   "outputs": [
    {
     "name": "stdout",
     "output_type": "stream",
     "text": [
      "   ID   STG   SCG   STR   LPR\n",
      "0   1  0.00  0.00  0.00  0.00\n",
      "1   2  0.08  0.08  0.10  0.24\n",
      "2   3  0.06  0.06  0.05  0.25\n",
      "3   4  0.10  0.10  0.15  0.65\n",
      "4   5  0.08  0.08  0.08  0.98\n",
      "   ID   PEG\n",
      "0   1  0.00\n",
      "1   2  0.90\n",
      "2   3  0.33\n",
      "3   4  0.30\n",
      "4   5  0.24\n"
     ]
    }
   ],
   "source": [
    "print(trainDS.head())\n",
    "print(trainDS2.head())\n"
   ]
  },
  {
   "cell_type": "code",
   "execution_count": 7,
   "metadata": {},
   "outputs": [
    {
     "name": "stdout",
     "output_type": "stream",
     "text": [
      "      ID   STG   SCG   STR   LPR   ID   PEG\n",
      "0      1  0.00  0.00  0.00  0.00  1.0  0.00\n",
      "1      2  0.08  0.08  0.10  0.24  2.0  0.90\n",
      "2      3  0.06  0.06  0.05  0.25  3.0  0.33\n",
      "3      4  0.10  0.10  0.15  0.65  4.0  0.30\n",
      "4      5  0.08  0.08  0.08  0.98  5.0  0.24\n",
      "..   ...   ...   ...   ...   ...  ...   ...\n",
      "253  254  0.61  0.78  0.69  0.92  NaN   NaN\n",
      "254  255  0.78  0.61  0.71  0.19  NaN   NaN\n",
      "255  256  0.54  0.82  0.71  0.29  NaN   NaN\n",
      "256  257  0.50  0.75  0.81  0.61  NaN   NaN\n",
      "257  258  0.66  0.90  0.76  0.87  NaN   NaN\n",
      "\n",
      "[258 rows x 7 columns]\n"
     ]
    }
   ],
   "source": [
    "birlestir1=pd.concat([trainDS, trainDS2], axis=1)\n",
    "print(birlestir1)"
   ]
  },
  {
   "cell_type": "code",
   "execution_count": 8,
   "metadata": {},
   "outputs": [
    {
     "name": "stdout",
     "output_type": "stream",
     "text": [
      "      ID   STG   SCG   STR   LPR   PEG\n",
      "0      1  0.00  0.00  0.00  0.00   NaN\n",
      "1      2  0.08  0.08  0.10  0.24   NaN\n",
      "2      3  0.06  0.06  0.05  0.25   NaN\n",
      "3      4  0.10  0.10  0.15  0.65   NaN\n",
      "4      5  0.08  0.08  0.08  0.98   NaN\n",
      "..   ...   ...   ...   ...   ...   ...\n",
      "244  255   NaN   NaN   NaN   NaN  0.25\n",
      "245  256   NaN   NaN   NaN   NaN  0.88\n",
      "246  257   NaN   NaN   NaN   NaN  0.66\n",
      "247  258   NaN   NaN   NaN   NaN  0.29\n",
      "248  249   NaN   NaN   NaN   NaN  0.90\n",
      "\n",
      "[507 rows x 6 columns]\n"
     ]
    }
   ],
   "source": [
    "birlestir2=pd.concat([trainDS, trainDS2], axis=0)\n",
    "print(birlestir2)"
   ]
  },
  {
   "cell_type": "code",
   "execution_count": 9,
   "metadata": {},
   "outputs": [
    {
     "name": "stdout",
     "output_type": "stream",
     "text": [
      "      ID   STG   SCG   STR   LPR   PEG\n",
      "0      1  0.00  0.00  0.00  0.00  0.00\n",
      "1      2  0.08  0.08  0.10  0.24  0.90\n",
      "2      3  0.06  0.06  0.05  0.25  0.33\n",
      "3      4  0.10  0.10  0.15  0.65  0.30\n",
      "4      5  0.08  0.08  0.08  0.98  0.24\n",
      "..   ...   ...   ...   ...   ...   ...\n",
      "253  254  0.61  0.78  0.69  0.92  0.25\n",
      "254  255  0.78  0.61  0.71  0.19  0.25\n",
      "255  256  0.54  0.82  0.71  0.29  0.88\n",
      "256  257  0.50  0.75  0.81  0.61  0.66\n",
      "257  258  0.66  0.90  0.76  0.87  0.29\n",
      "\n",
      "[258 rows x 6 columns]\n"
     ]
    }
   ],
   "source": [
    "birlestir3=pd.merge(trainDS, trainDS2, on=\"ID\", how=\"left\")\n",
    "print(birlestir3)"
   ]
  },
  {
   "cell_type": "code",
   "execution_count": 10,
   "metadata": {},
   "outputs": [],
   "source": [
    "testDS=pd.read_excel('Data_User_Modeling_Dataset_birlestirme.xls', \n",
    "                      sheet_name='Test_Data', \n",
    "                      index_col=None, usecols=[0,1,2,3,4])\n",
    "\n",
    "\n",
    "testDS2=pd.read_excel('Data_User_Modeling_Dataset_birlestirme.xls', \n",
    "                       sheet_name='Test_Data2', \n",
    "                      index_col=None, usecols=[0,1,2,3,4])"
   ]
  },
  {
   "cell_type": "code",
   "execution_count": 11,
   "metadata": {},
   "outputs": [
    {
     "name": "stdout",
     "output_type": "stream",
     "text": [
      "     STG   SCG   STR   LPR   PEG\n",
      "0   0.00  0.10  0.50  0.26  0.05\n",
      "1   0.05  0.05  0.55  0.60  0.14\n",
      "2   0.08  0.18  0.63  0.60  0.85\n",
      "3   0.20  0.20  0.68  0.67  0.85\n",
      "4   0.22  0.22  0.90  0.30  0.90\n",
      "..   ...   ...   ...   ...   ...\n",
      "13  0.13  0.28  0.18  0.75  0.32\n",
      "14  0.23  0.29  0.45  0.18  0.88\n",
      "15  0.10  0.27  0.35  0.45  0.05\n",
      "16  0.22  0.31  0.42  0.88  0.80\n",
      "17  0.00  0.25  0.50  0.09  0.07\n",
      "\n",
      "[163 rows x 5 columns]\n"
     ]
    }
   ],
   "source": [
    "birlestir=pd.concat([testDS, testDS2], axis=0)\n",
    "print(birlestir)"
   ]
  },
  {
   "cell_type": "code",
   "execution_count": 12,
   "metadata": {},
   "outputs": [
    {
     "name": "stdout",
     "output_type": "stream",
     "text": [
      "      STG   SCG   STR   LPR   PEG\n",
      "0    0.00  0.10  0.50  0.26  0.05\n",
      "1    0.05  0.05  0.55  0.60  0.14\n",
      "2    0.08  0.18  0.63  0.60  0.85\n",
      "3    0.20  0.20  0.68  0.67  0.85\n",
      "4    0.22  0.22  0.90  0.30  0.90\n",
      "..    ...   ...   ...   ...   ...\n",
      "140  0.90  0.78  0.62  0.32  0.89\n",
      "141  0.85  0.82  0.66  0.83  0.83\n",
      "142  0.56  0.60  0.77  0.13  0.32\n",
      "143  0.66  0.68  0.81  0.57  0.57\n",
      "144  0.68  0.64  0.79  0.97  0.24\n",
      "\n",
      "[145 rows x 5 columns]\n"
     ]
    }
   ],
   "source": [
    "donustur=birlestir.drop_duplicates(subset=birlestir.columns[0:6], keep='first')\n",
    "print(donustur)"
   ]
  },
  {
   "cell_type": "code",
   "execution_count": null,
   "metadata": {},
   "outputs": [],
   "source": []
  }
 ],
 "metadata": {
  "kernelspec": {
   "display_name": "Python 3",
   "language": "python",
   "name": "python3"
  },
  "language_info": {
   "codemirror_mode": {
    "name": "ipython",
    "version": 3
   },
   "file_extension": ".py",
   "mimetype": "text/x-python",
   "name": "python",
   "nbconvert_exporter": "python",
   "pygments_lexer": "ipython3",
   "version": "3.8.5"
  }
 },
 "nbformat": 4,
 "nbformat_minor": 4
}
