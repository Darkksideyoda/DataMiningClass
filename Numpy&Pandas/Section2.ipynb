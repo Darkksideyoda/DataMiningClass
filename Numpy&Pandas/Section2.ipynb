{
 "cells": [
  {
   "cell_type": "code",
   "execution_count": 2,
   "id": "c0dbcd46-4eb8-46bd-8207-2d471c3128f8",
   "metadata": {},
   "outputs": [],
   "source": [
    "import pandas as pd #kutuphaneyi dahil etme"
   ]
  },
  {
   "cell_type": "code",
   "execution_count": 4,
   "id": "bc4c2a06-2b01-4062-8e26-0fa2bafce0b4",
   "metadata": {},
   "outputs": [
    {
     "data": {
      "text/plain": [
       "0    1\n",
       "1    2\n",
       "2    3\n",
       "3    4\n",
       "4    5\n",
       "dtype: int64"
      ]
     },
     "execution_count": 4,
     "metadata": {},
     "output_type": "execute_result"
    }
   ],
   "source": [
    "pd.Series([1,2,3,4,5]) #numpy gibi dizi olusturma ama indisleride verir"
   ]
  },
  {
   "cell_type": "code",
   "execution_count": 5,
   "id": "19aee211-d065-4209-b718-b6061054c7ab",
   "metadata": {},
   "outputs": [],
   "source": [
    "seri = pd.Series([1,2,3,4,5]) #numpy gibi dizi olusturma ama indisleride verir"
   ]
  },
  {
   "cell_type": "code",
   "execution_count": 6,
   "id": "824611c5-c590-4535-81a3-9bd20a62c9c0",
   "metadata": {},
   "outputs": [
    {
     "data": {
      "text/plain": [
       "[RangeIndex(start=0, stop=5, step=1)]"
      ]
     },
     "execution_count": 6,
     "metadata": {},
     "output_type": "execute_result"
    }
   ],
   "source": [
    "seri.axes #serinin index bilgileri"
   ]
  },
  {
   "cell_type": "code",
   "execution_count": 7,
   "id": "93005bd0-f73a-4119-942b-42452603e8a5",
   "metadata": {},
   "outputs": [
    {
     "data": {
      "text/plain": [
       "5"
      ]
     },
     "execution_count": 7,
     "metadata": {},
     "output_type": "execute_result"
    }
   ],
   "source": [
    "seri.size #eleman sayisi verir"
   ]
  },
  {
   "cell_type": "code",
   "execution_count": 8,
   "id": "a63c9a3a-ef8b-475d-a3ea-62a28d31302f",
   "metadata": {},
   "outputs": [
    {
     "data": {
      "text/plain": [
       "1"
      ]
     },
     "execution_count": 8,
     "metadata": {},
     "output_type": "execute_result"
    }
   ],
   "source": [
    "seri.ndim #Boyutu Gosterme"
   ]
  },
  {
   "cell_type": "code",
   "execution_count": 9,
   "id": "235cef53-a327-452c-b664-3040c90f7d6e",
   "metadata": {},
   "outputs": [
    {
     "data": {
      "text/plain": [
       "array([1, 2, 3, 4, 5], dtype=int64)"
      ]
     },
     "execution_count": 9,
     "metadata": {},
     "output_type": "execute_result"
    }
   ],
   "source": [
    "seri.values #sanki tek boyutlu bir numpy array gibi indexssiz"
   ]
  },
  {
   "cell_type": "code",
   "execution_count": 11,
   "id": "3f5995b1-f280-42de-bf3f-89eb0431334e",
   "metadata": {},
   "outputs": [
    {
     "data": {
      "text/plain": [
       "0    1\n",
       "1    2\n",
       "2    3\n",
       "dtype: int64"
      ]
     },
     "execution_count": 11,
     "metadata": {},
     "output_type": "execute_result"
    }
   ],
   "source": [
    "seri.head(3) #basından bir goz atayım "
   ]
  },
  {
   "cell_type": "code",
   "execution_count": 12,
   "id": "ba67544d-ee65-4896-a99b-31e5c40eebe7",
   "metadata": {},
   "outputs": [
    {
     "data": {
      "text/plain": [
       "2    3\n",
       "3    4\n",
       "4    5\n",
       "dtype: int64"
      ]
     },
     "execution_count": 12,
     "metadata": {},
     "output_type": "execute_result"
    }
   ],
   "source": [
    "seri.tail(3) #Sondan 3'e goz at"
   ]
  },
  {
   "cell_type": "code",
   "execution_count": 14,
   "id": "d6bfdef7-33d2-4689-acfa-e88bb9e6265f",
   "metadata": {},
   "outputs": [
    {
     "data": {
      "text/plain": [
       "1     99\n",
       "5     22\n",
       "8     13\n",
       "9     54\n",
       "10    65\n",
       "dtype: int64"
      ]
     },
     "execution_count": 14,
     "metadata": {},
     "output_type": "execute_result"
    }
   ],
   "source": [
    "newSeries = pd.Series([99,22,13,54,65], index = [1,5,8,9,10] ) #Olusturulan seriye manuel index atama\n",
    "newSeries"
   ]
  },
  {
   "cell_type": "code",
   "execution_count": 16,
   "id": "5a68781e-7830-4723-943e-b95c15840b27",
   "metadata": {},
   "outputs": [
    {
     "data": {
      "text/plain": [
       "0      1\n",
       "1      2\n",
       "2      3\n",
       "3      4\n",
       "4      5\n",
       "1     99\n",
       "5     22\n",
       "8     13\n",
       "9     54\n",
       "10    65\n",
       "dtype: int64"
      ]
     },
     "execution_count": 16,
     "metadata": {},
     "output_type": "execute_result"
    }
   ],
   "source": [
    "pd.concat([seri,newSeries]) #iki seriyi birlestirme"
   ]
  },
  {
   "cell_type": "code",
   "execution_count": 17,
   "id": "1f66070f-d6a6-47a1-84fe-d6c2d03e2554",
   "metadata": {},
   "outputs": [],
   "source": [
    "import  numpy as np"
   ]
  },
  {
   "cell_type": "code",
   "execution_count": 18,
   "id": "7f7ac423-d877-41a4-8004-ee4d838dbc6f",
   "metadata": {},
   "outputs": [],
   "source": [
    "a = np.array([1,2,33,444,75])"
   ]
  },
  {
   "cell_type": "code",
   "execution_count": 19,
   "id": "ed345699-007d-40aa-8424-9af1e6f421ab",
   "metadata": {},
   "outputs": [],
   "source": [
    "seri = pd.Series(a)"
   ]
  },
  {
   "cell_type": "code",
   "execution_count": 20,
   "id": "408f7ae3-924e-430c-9b51-b7f8427aff09",
   "metadata": {},
   "outputs": [
    {
     "data": {
      "text/plain": [
       "0      1\n",
       "1      2\n",
       "2     33\n",
       "3    444\n",
       "4     75\n",
       "dtype: int32"
      ]
     },
     "execution_count": 20,
     "metadata": {},
     "output_type": "execute_result"
    }
   ],
   "source": [
    "seri"
   ]
  },
  {
   "cell_type": "code",
   "execution_count": 21,
   "id": "a67120ce-b91d-480f-b149-48f51a96e62a",
   "metadata": {},
   "outputs": [
    {
     "data": {
      "text/plain": [
       "1"
      ]
     },
     "execution_count": 21,
     "metadata": {},
     "output_type": "execute_result"
    }
   ],
   "source": [
    "seri[0]"
   ]
  },
  {
   "cell_type": "code",
   "execution_count": 22,
   "id": "b8775054-37ca-4bf1-acae-c279bdc5d838",
   "metadata": {},
   "outputs": [
    {
     "data": {
      "text/plain": [
       "0     1\n",
       "1     2\n",
       "2    33\n",
       "dtype: int32"
      ]
     },
     "execution_count": 22,
     "metadata": {},
     "output_type": "execute_result"
    }
   ],
   "source": [
    "seri[0:3] #Slice islemi 0'dan 3'e kadar"
   ]
  },
  {
   "cell_type": "code",
   "execution_count": 23,
   "id": "f91b0f2a-afd3-4d79-af26-e300b17abcb5",
   "metadata": {},
   "outputs": [
    {
     "data": {
      "text/plain": [
       "reg     121\n",
       "loj     200\n",
       "cart    150\n",
       "rf       99\n",
       "dtype: int64"
      ]
     },
     "execution_count": 23,
     "metadata": {},
     "output_type": "execute_result"
    }
   ],
   "source": [
    "seri = pd.Series([121,200,150,99],index=[\"reg\",\"loj\",\"cart\",\"rf\"])\n",
    "seri"
   ]
  },
  {
   "cell_type": "code",
   "execution_count": 24,
   "id": "3230631f-b751-47e4-bb40-88649d8c6b02",
   "metadata": {},
   "outputs": [
    {
     "data": {
      "text/plain": [
       "Index(['reg', 'loj', 'cart', 'rf'], dtype='object')"
      ]
     },
     "execution_count": 24,
     "metadata": {},
     "output_type": "execute_result"
    }
   ],
   "source": [
    "seri.index #sadece index degerleri"
   ]
  },
  {
   "cell_type": "code",
   "execution_count": 26,
   "id": "850e2e26-ce2e-477f-bb7d-77e77a71eece",
   "metadata": {},
   "outputs": [
    {
     "data": {
      "text/plain": [
       "<bound method Series.keys of reg     121\n",
       "loj     200\n",
       "cart    150\n",
       "rf       99\n",
       "dtype: int64>"
      ]
     },
     "execution_count": 26,
     "metadata": {},
     "output_type": "execute_result"
    }
   ],
   "source": [
    "seri.keys #keys bilgileri"
   ]
  },
  {
   "cell_type": "code",
   "execution_count": 27,
   "id": "0a74865c-1045-4782-97c8-7ca947c81087",
   "metadata": {},
   "outputs": [
    {
     "data": {
      "text/plain": [
       "[('reg', 121), ('loj', 200), ('cart', 150), ('rf', 99)]"
      ]
     },
     "execution_count": 27,
     "metadata": {},
     "output_type": "execute_result"
    }
   ],
   "source": [
    "list(seri.items()) #key ve value degerlerini ayri ayri getirme"
   ]
  },
  {
   "cell_type": "code",
   "execution_count": 28,
   "id": "a33ea20e-eec2-44f5-b65a-b336b2b9eba7",
   "metadata": {},
   "outputs": [
    {
     "data": {
      "text/plain": [
       "array([121, 200, 150,  99], dtype=int64)"
      ]
     },
     "execution_count": 28,
     "metadata": {},
     "output_type": "execute_result"
    }
   ],
   "source": [
    "seri.values #sadece degerleri getirme"
   ]
  },
  {
   "cell_type": "code",
   "execution_count": 29,
   "id": "8080c45b-94f6-4af0-8b8d-6ad1109f94b3",
   "metadata": {},
   "outputs": [
    {
     "data": {
      "text/plain": [
       "True"
      ]
     },
     "execution_count": 29,
     "metadata": {},
     "output_type": "execute_result"
    }
   ],
   "source": [
    "\"reg\" in seri #eleman sorgular seri icerisinde boyle birsey var mı ?"
   ]
  },
  {
   "cell_type": "code",
   "execution_count": 30,
   "id": "8c4bbc2b-3a08-4e8c-8461-39d54dfbda86",
   "metadata": {},
   "outputs": [
    {
     "data": {
      "text/plain": [
       "121"
      ]
     },
     "execution_count": 30,
     "metadata": {},
     "output_type": "execute_result"
    }
   ],
   "source": [
    "seri[\"reg\"] #reg indexine gelen degeri gosterir"
   ]
  },
  {
   "cell_type": "code",
   "execution_count": 31,
   "id": "8c4cf14d-b4d3-478f-9d63-32ee5395cad5",
   "metadata": {},
   "outputs": [],
   "source": [
    "seri[\"reg\"] = 130 #indexe yeni deger atar"
   ]
  },
  {
   "cell_type": "code",
   "execution_count": 32,
   "id": "844074c5-9ccc-4821-9058-fdeca00504c3",
   "metadata": {},
   "outputs": [
    {
     "data": {
      "text/plain": [
       "130"
      ]
     },
     "execution_count": 32,
     "metadata": {},
     "output_type": "execute_result"
    }
   ],
   "source": [
    "seri[\"reg\"]"
   ]
  }
 ],
 "metadata": {
  "kernelspec": {
   "display_name": "Python 3",
   "language": "python",
   "name": "python3"
  },
  "language_info": {
   "codemirror_mode": {
    "name": "ipython",
    "version": 3
   },
   "file_extension": ".py",
   "mimetype": "text/x-python",
   "name": "python",
   "nbconvert_exporter": "python",
   "pygments_lexer": "ipython3",
   "version": "3.8.8"
  }
 },
 "nbformat": 4,
 "nbformat_minor": 5
}
