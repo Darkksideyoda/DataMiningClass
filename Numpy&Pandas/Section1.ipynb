{
 "cells": [
  {
   "cell_type": "code",
   "execution_count": 7,
   "id": "b0d4b889-0e13-4f48-919c-6ea3da919aeb",
   "metadata": {},
   "outputs": [],
   "source": [
    "import numpy as np"
   ]
  },
  {
   "cell_type": "code",
   "execution_count": 11,
   "id": "8d5fe0be-1179-4152-8d9d-2a2d66e77a3d",
   "metadata": {},
   "outputs": [],
   "source": [
    "a = np.array([1,2,3,4])"
   ]
  },
  {
   "cell_type": "code",
   "execution_count": 25,
   "id": "c05e090c-45f2-4d4e-96ff-09d0618c2c57",
   "metadata": {},
   "outputs": [
    {
     "data": {
      "text/plain": [
       "numpy.ndarray"
      ]
     },
     "execution_count": 25,
     "metadata": {},
     "output_type": "execute_result"
    }
   ],
   "source": [
    "type(a)"
   ]
  },
  {
   "cell_type": "code",
   "execution_count": 26,
   "id": "05f57347-faea-4795-8535-b154d8205d6a",
   "metadata": {},
   "outputs": [
    {
     "data": {
      "text/plain": [
       "array([ 3.14,  4.  ,  2.  , 13.  ])"
      ]
     },
     "execution_count": 26,
     "metadata": {},
     "output_type": "execute_result"
    }
   ],
   "source": [
    "np.array([3.14,4,2,13])"
   ]
  },
  {
   "cell_type": "code",
   "execution_count": 16,
   "id": "802cc392-08da-4826-9040-7148f9be18c6",
   "metadata": {},
   "outputs": [
    {
     "data": {
      "text/plain": [
       "array([1, 1, 1, 1, 1, 1, 1, 1, 1, 1])"
      ]
     },
     "execution_count": 16,
     "metadata": {},
     "output_type": "execute_result"
    }
   ],
   "source": [
    "np.ones(10,dtype=int)"
   ]
  },
  {
   "cell_type": "code",
   "execution_count": 17,
   "id": "99bed3d1-4484-464a-99cf-d1eb96dd502d",
   "metadata": {},
   "outputs": [
    {
     "data": {
      "text/plain": [
       "array([[3, 3, 3, 3, 3],\n",
       "       [3, 3, 3, 3, 3],\n",
       "       [3, 3, 3, 3, 3]])"
      ]
     },
     "execution_count": 17,
     "metadata": {},
     "output_type": "execute_result"
    }
   ],
   "source": [
    "np.full((3,5),3,dtype=int)"
   ]
  },
  {
   "cell_type": "code",
   "execution_count": 19,
   "id": "6e2f0228-128b-4621-878b-d2af063ffdc4",
   "metadata": {},
   "outputs": [
    {
     "data": {
      "text/plain": [
       "array([ 0,  3,  6,  9, 12, 15, 18, 21, 24, 27, 30])"
      ]
     },
     "execution_count": 19,
     "metadata": {},
     "output_type": "execute_result"
    }
   ],
   "source": [
    "np.arange(0,31,3)"
   ]
  },
  {
   "cell_type": "code",
   "execution_count": 22,
   "id": "6682d616-c605-4da5-a99b-594c1ab0bebd",
   "metadata": {},
   "outputs": [
    {
     "data": {
      "text/plain": [
       "array([[13.89737732,  9.1295223 , 13.34037272,  7.82288172],\n",
       "       [ 7.5336137 , 12.41949362, 11.78372504,  1.71193654],\n",
       "       [ 8.04597919, 10.82114617, 10.3632201 , 10.69983304]])"
      ]
     },
     "execution_count": 22,
     "metadata": {},
     "output_type": "execute_result"
    }
   ],
   "source": [
    "np.random.normal(10,4,(3,4))"
   ]
  },
  {
   "cell_type": "code",
   "execution_count": 30,
   "id": "8b5fb67b-602f-47df-8592-5dd23aab6da0",
   "metadata": {},
   "outputs": [
    {
     "data": {
      "text/plain": [
       "array([[3, 9, 8],\n",
       "       [2, 3, 2],\n",
       "       [8, 9, 9]])"
      ]
     },
     "execution_count": 30,
     "metadata": {},
     "output_type": "execute_result"
    }
   ],
   "source": [
    "np.random.randint(0,10,(3,3)) #0'dan 10 a kadar random int üretir"
   ]
  },
  {
   "cell_type": "code",
   "execution_count": 32,
   "id": "31d65c1a-ad01-41d6-a5ef-762edcc81e55",
   "metadata": {},
   "outputs": [
    {
     "data": {
      "text/plain": [
       "array([1, 4, 7, 2, 7, 3, 3, 0, 5, 4])"
      ]
     },
     "execution_count": 32,
     "metadata": {},
     "output_type": "execute_result"
    }
   ],
   "source": [
    "np.random.randint(10,size=10)#0'dan 10a kadar 10 elemanlı random array"
   ]
  },
  {
   "cell_type": "code",
   "execution_count": 33,
   "id": "b547833e-fb02-4e62-afac-5dc8665ed672",
   "metadata": {},
   "outputs": [],
   "source": [
    "a = np.random.randint(10,size=10)"
   ]
  },
  {
   "cell_type": "code",
   "execution_count": 34,
   "id": "baab87f5-2f03-4d95-bd57-db9e5037122b",
   "metadata": {},
   "outputs": [
    {
     "data": {
      "text/plain": [
       "1"
      ]
     },
     "execution_count": 34,
     "metadata": {},
     "output_type": "execute_result"
    }
   ],
   "source": [
    "a.ndim # boyutun kac boyutlu oldugu"
   ]
  },
  {
   "cell_type": "code",
   "execution_count": 36,
   "id": "42ef0209-a089-46a7-b841-802c1ad6ea4e",
   "metadata": {},
   "outputs": [
    {
     "data": {
      "text/plain": [
       "(10,)"
      ]
     },
     "execution_count": 36,
     "metadata": {},
     "output_type": "execute_result"
    }
   ],
   "source": [
    "a.shape #array boyutunu tam olarak verir"
   ]
  },
  {
   "cell_type": "code",
   "execution_count": 37,
   "id": "c1960228-0b68-445f-90fc-b73793fa135c",
   "metadata": {},
   "outputs": [
    {
     "data": {
      "text/plain": [
       "10"
      ]
     },
     "execution_count": 37,
     "metadata": {},
     "output_type": "execute_result"
    }
   ],
   "source": [
    "a.size #eleman sayisi"
   ]
  },
  {
   "cell_type": "code",
   "execution_count": 38,
   "id": "268531f6-1e7c-4c02-a6fd-99a71915adac",
   "metadata": {},
   "outputs": [
    {
     "data": {
      "text/plain": [
       "dtype('int32')"
      ]
     },
     "execution_count": 38,
     "metadata": {},
     "output_type": "execute_result"
    }
   ],
   "source": [
    "a.dtype #icerideki verinin turunu veriri."
   ]
  },
  {
   "cell_type": "code",
   "execution_count": 39,
   "id": "7e51dda4-4905-4045-865d-12533f164f54",
   "metadata": {},
   "outputs": [],
   "source": [
    "b = np.random.randint(10,size=(3,5)) #3'e 5 lik bir matris random"
   ]
  },
  {
   "cell_type": "code",
   "execution_count": 40,
   "id": "0200f45f-71b2-4207-b642-ff02b667fd47",
   "metadata": {},
   "outputs": [
    {
     "data": {
      "text/plain": [
       "array([[8, 6, 4, 5, 0],\n",
       "       [2, 1, 5, 7, 8],\n",
       "       [5, 2, 3, 0, 2]])"
      ]
     },
     "execution_count": 40,
     "metadata": {},
     "output_type": "execute_result"
    }
   ],
   "source": [
    "b"
   ]
  },
  {
   "cell_type": "code",
   "execution_count": 41,
   "id": "f3719096-7a9d-406f-a0dc-74ca187caa7b",
   "metadata": {},
   "outputs": [
    {
     "data": {
      "text/plain": [
       "2"
      ]
     },
     "execution_count": 41,
     "metadata": {},
     "output_type": "execute_result"
    }
   ],
   "source": [
    "b.ndim"
   ]
  },
  {
   "cell_type": "code",
   "execution_count": 42,
   "id": "7cb77f0d-fd67-4d8a-b0a6-ea8d93c0a25a",
   "metadata": {},
   "outputs": [
    {
     "data": {
      "text/plain": [
       "(3, 5)"
      ]
     },
     "execution_count": 42,
     "metadata": {},
     "output_type": "execute_result"
    }
   ],
   "source": [
    "b.shape"
   ]
  },
  {
   "cell_type": "code",
   "execution_count": 43,
   "id": "64357a26-66ba-48ef-8ecf-86483ffbf716",
   "metadata": {},
   "outputs": [
    {
     "data": {
      "text/plain": [
       "15"
      ]
     },
     "execution_count": 43,
     "metadata": {},
     "output_type": "execute_result"
    }
   ],
   "source": [
    "b.size"
   ]
  },
  {
   "cell_type": "code",
   "execution_count": 44,
   "id": "133f2e59-a565-4105-b5e0-764fbf50fab8",
   "metadata": {},
   "outputs": [
    {
     "data": {
      "text/plain": [
       "dtype('int32')"
      ]
     },
     "execution_count": 44,
     "metadata": {},
     "output_type": "execute_result"
    }
   ],
   "source": [
    "b.dtype"
   ]
  },
  {
   "cell_type": "code",
   "execution_count": 46,
   "id": "a5306fe6-57d4-4fe3-926f-86cc2972f397",
   "metadata": {},
   "outputs": [
    {
     "data": {
      "text/plain": [
       "array([1, 2, 3, 4, 5, 6, 7, 8, 9])"
      ]
     },
     "execution_count": 46,
     "metadata": {},
     "output_type": "execute_result"
    }
   ],
   "source": [
    "np.arange(1,10)"
   ]
  },
  {
   "cell_type": "code",
   "execution_count": 47,
   "id": "18cbf37a-03a9-494c-b369-1a33b865da72",
   "metadata": {},
   "outputs": [
    {
     "data": {
      "text/plain": [
       "array([[1, 2, 3],\n",
       "       [4, 5, 6],\n",
       "       [7, 8, 9]])"
      ]
     },
     "execution_count": 47,
     "metadata": {},
     "output_type": "execute_result"
    }
   ],
   "source": [
    "np.arange(1,10).reshape((3,3)) #boyut değiştirme reshape"
   ]
  },
  {
   "cell_type": "code",
   "execution_count": 48,
   "id": "b7bc9e9e-8f0a-42bb-8454-35da9c76b3b4",
   "metadata": {},
   "outputs": [],
   "source": [
    "a = np.arange(1,10)"
   ]
  },
  {
   "cell_type": "code",
   "execution_count": 49,
   "id": "12526b53-168a-4e89-a7e3-d4849b31889a",
   "metadata": {},
   "outputs": [
    {
     "data": {
      "text/plain": [
       "array([[1, 2, 3, 4, 5, 6, 7, 8, 9]])"
      ]
     },
     "execution_count": 49,
     "metadata": {},
     "output_type": "execute_result"
    }
   ],
   "source": [
    "a.reshape((1,9))"
   ]
  },
  {
   "cell_type": "code",
   "execution_count": 51,
   "id": "9d17b3ab-b11d-4a0c-b3c9-23c343faa874",
   "metadata": {},
   "outputs": [],
   "source": [
    "#--------------Array Birlestirme-----------------"
   ]
  },
  {
   "cell_type": "code",
   "execution_count": 52,
   "id": "e845c5bc-704f-4683-b09c-14849ed39a19",
   "metadata": {},
   "outputs": [],
   "source": [
    "x = np.array([1,2,3])\n",
    "y = np.array([4,5,6])"
   ]
  },
  {
   "cell_type": "code",
   "execution_count": 53,
   "id": "81dd83d2-5674-457a-b94d-38f8d71496c7",
   "metadata": {},
   "outputs": [
    {
     "data": {
      "text/plain": [
       "array([1, 2, 3, 4, 5, 6])"
      ]
     },
     "execution_count": 53,
     "metadata": {},
     "output_type": "execute_result"
    }
   ],
   "source": [
    "np.concatenate([x,y]) # birlestirme fonksiyonu"
   ]
  },
  {
   "cell_type": "code",
   "execution_count": 54,
   "id": "63bf9f3d-cd5f-4b7b-a254-d7e6c43a696f",
   "metadata": {},
   "outputs": [],
   "source": [
    "z = np.array([7,8,9])"
   ]
  },
  {
   "cell_type": "code",
   "execution_count": 55,
   "id": "480462e0-2760-4ede-a9ed-5fea3a7a9088",
   "metadata": {},
   "outputs": [
    {
     "data": {
      "text/plain": [
       "array([1, 2, 3, 4, 5, 6, 7, 8, 9])"
      ]
     },
     "execution_count": 55,
     "metadata": {},
     "output_type": "execute_result"
    }
   ],
   "source": [
    "np.concatenate([x,y,z])"
   ]
  },
  {
   "cell_type": "code",
   "execution_count": 61,
   "id": "10bdf091-7f2b-4a6e-9baf-a3ca45c0a46d",
   "metadata": {},
   "outputs": [],
   "source": [
    "a = np.array([[1,2,3],[4,5,6]])\n"
   ]
  },
  {
   "cell_type": "code",
   "execution_count": 63,
   "id": "bdb95d92-167d-43b7-9ab9-615cb58762be",
   "metadata": {},
   "outputs": [
    {
     "data": {
      "text/plain": [
       "array([[1, 2, 3],\n",
       "       [4, 5, 6],\n",
       "       [1, 2, 3],\n",
       "       [4, 5, 6]])"
      ]
     },
     "execution_count": 63,
     "metadata": {},
     "output_type": "execute_result"
    }
   ],
   "source": [
    "np.concatenate([a,a])"
   ]
  },
  {
   "cell_type": "code",
   "execution_count": 64,
   "id": "7591a3d2-345e-4fdf-9d81-7fc0026f9491",
   "metadata": {},
   "outputs": [
    {
     "data": {
      "text/plain": [
       "array([[1, 2, 3, 1, 2, 3],\n",
       "       [4, 5, 6, 4, 5, 6]])"
      ]
     },
     "execution_count": 64,
     "metadata": {},
     "output_type": "execute_result"
    }
   ],
   "source": [
    "np.concatenate([a,a],axis = 1)"
   ]
  },
  {
   "cell_type": "code",
   "execution_count": 65,
   "id": "543367af-e814-44c2-abac-a982b4107fe2",
   "metadata": {},
   "outputs": [],
   "source": [
    "#----------------Array Ayirma Islemleri------------------"
   ]
  },
  {
   "cell_type": "code",
   "execution_count": 66,
   "id": "09d20c37-4c78-4854-b0f8-c6ec94010995",
   "metadata": {},
   "outputs": [],
   "source": [
    "x = np.array([1,2,3,99,99,3,2,1])"
   ]
  },
  {
   "cell_type": "code",
   "execution_count": 67,
   "id": "9b1f3ee3-a079-47db-a3cd-4c7c72c1f680",
   "metadata": {},
   "outputs": [
    {
     "data": {
      "text/plain": [
       "[array([1, 2, 3]), array([99, 99]), array([3, 2, 1])]"
      ]
     },
     "execution_count": 67,
     "metadata": {},
     "output_type": "execute_result"
    }
   ],
   "source": [
    "np.split(x,[3,5])"
   ]
  },
  {
   "cell_type": "code",
   "execution_count": 68,
   "id": "be3a1835-6e11-40af-93c3-d0273199bb26",
   "metadata": {},
   "outputs": [],
   "source": [
    "a,b,c = np.split(x,[3,5])"
   ]
  },
  {
   "cell_type": "code",
   "execution_count": 69,
   "id": "5c956e38-2e3b-4cd2-a365-2605c9b1a0bf",
   "metadata": {},
   "outputs": [
    {
     "data": {
      "text/plain": [
       "array([1, 2, 3])"
      ]
     },
     "execution_count": 69,
     "metadata": {},
     "output_type": "execute_result"
    }
   ],
   "source": [
    "a"
   ]
  },
  {
   "cell_type": "code",
   "execution_count": 70,
   "id": "e3f711f1-e892-45f1-8e97-5a6f818f1e4e",
   "metadata": {},
   "outputs": [
    {
     "data": {
      "text/plain": [
       "array([99, 99])"
      ]
     },
     "execution_count": 70,
     "metadata": {},
     "output_type": "execute_result"
    }
   ],
   "source": [
    "b"
   ]
  },
  {
   "cell_type": "code",
   "execution_count": 71,
   "id": "0d4fd682-6b34-4ef0-95d5-9cfc788305d6",
   "metadata": {},
   "outputs": [
    {
     "data": {
      "text/plain": [
       "array([3, 2, 1])"
      ]
     },
     "execution_count": 71,
     "metadata": {},
     "output_type": "execute_result"
    }
   ],
   "source": [
    "c"
   ]
  },
  {
   "cell_type": "code",
   "execution_count": 72,
   "id": "f83e4b44-ea7c-4169-82d0-b39cd0134c52",
   "metadata": {},
   "outputs": [],
   "source": [
    "#iki boyutlu ayirma"
   ]
  },
  {
   "cell_type": "code",
   "execution_count": 73,
   "id": "50c04ba7-7dcf-4bed-baa6-10344f9e69bd",
   "metadata": {},
   "outputs": [],
   "source": [
    "m = np.arange(16).reshape(4,4)"
   ]
  },
  {
   "cell_type": "code",
   "execution_count": 74,
   "id": "7bda145e-6b7c-45b3-a2f7-75b723026dd5",
   "metadata": {},
   "outputs": [
    {
     "data": {
      "text/plain": [
       "array([[ 0,  1,  2,  3],\n",
       "       [ 4,  5,  6,  7],\n",
       "       [ 8,  9, 10, 11],\n",
       "       [12, 13, 14, 15]])"
      ]
     },
     "execution_count": 74,
     "metadata": {},
     "output_type": "execute_result"
    }
   ],
   "source": [
    "m"
   ]
  },
  {
   "cell_type": "code",
   "execution_count": 75,
   "id": "813fa8a1-ac95-4dd0-a275-0931e54ef52e",
   "metadata": {},
   "outputs": [
    {
     "data": {
      "text/plain": [
       "[array([[0, 1, 2, 3],\n",
       "        [4, 5, 6, 7]]),\n",
       " array([[ 8,  9, 10, 11],\n",
       "        [12, 13, 14, 15]])]"
      ]
     },
     "execution_count": 75,
     "metadata": {},
     "output_type": "execute_result"
    }
   ],
   "source": [
    "np.vsplit(m,[2])"
   ]
  },
  {
   "cell_type": "code",
   "execution_count": 76,
   "id": "89798ce4-9cee-4a43-887c-4c1efe6cc919",
   "metadata": {},
   "outputs": [
    {
     "data": {
      "text/plain": [
       "array([ 3, 47, 98, 12,  2,  1, 77])"
      ]
     },
     "execution_count": 76,
     "metadata": {},
     "output_type": "execute_result"
    }
   ],
   "source": [
    "v = np.array([3,47,98,12,2,1,77])\n",
    "v"
   ]
  },
  {
   "cell_type": "code",
   "execution_count": 80,
   "id": "3887b76f-82a2-404c-b4a5-315b9f265091",
   "metadata": {},
   "outputs": [
    {
     "data": {
      "text/plain": [
       "array([ 1,  2,  3, 12, 47, 77, 98])"
      ]
     },
     "execution_count": 80,
     "metadata": {},
     "output_type": "execute_result"
    }
   ],
   "source": [
    "np.sort(v) # array sıralama"
   ]
  },
  {
   "cell_type": "code",
   "execution_count": 87,
   "id": "df5f0a9b-1f52-4a0d-b71a-028843f6c2a7",
   "metadata": {},
   "outputs": [
    {
     "data": {
      "text/plain": [
       "array([[12.14900203, 21.0267467 , 30.05898952],\n",
       "       [24.57746183, 16.59124199, 21.1146363 ],\n",
       "       [18.44844774, 11.21138663, 28.8539378 ]])"
      ]
     },
     "execution_count": 87,
     "metadata": {},
     "output_type": "execute_result"
    }
   ],
   "source": [
    "m = np.random.normal(20,5,(3,3))\n",
    "m"
   ]
  },
  {
   "cell_type": "code",
   "execution_count": 85,
   "id": "50be2ad5-053c-4531-9e4f-a4970b037e77",
   "metadata": {},
   "outputs": [
    {
     "data": {
      "text/plain": [
       "array([[15.90536563, 22.34420638, 34.11125868],\n",
       "       [24.47677305, 25.10897662, 25.20382256],\n",
       "       [17.54574602, 19.4257444 , 23.15094389]])"
      ]
     },
     "execution_count": 85,
     "metadata": {},
     "output_type": "execute_result"
    }
   ],
   "source": [
    "np.sort(m,axis=1)"
   ]
  },
  {
   "cell_type": "code",
   "execution_count": 86,
   "id": "04fd2f5f-f16a-49ad-8a31-a97bec3d1c1f",
   "metadata": {},
   "outputs": [
    {
     "data": {
      "text/plain": [
       "array([[19.4257444 , 17.54574602, 15.90536563],\n",
       "       [25.10897662, 22.34420638, 23.15094389],\n",
       "       [34.11125868, 25.20382256, 24.47677305]])"
      ]
     },
     "execution_count": 86,
     "metadata": {},
     "output_type": "execute_result"
    }
   ],
   "source": [
    "np.sort(m,axis = 0)"
   ]
  },
  {
   "cell_type": "code",
   "execution_count": null,
   "id": "3ff64332-7ad6-41a1-b675-f29411e88aa1",
   "metadata": {},
   "outputs": [],
   "source": []
  }
 ],
 "metadata": {
  "kernelspec": {
   "display_name": "Python 3",
   "language": "python",
   "name": "python3"
  },
  "language_info": {
   "codemirror_mode": {
    "name": "ipython",
    "version": 3
   },
   "file_extension": ".py",
   "mimetype": "text/x-python",
   "name": "python",
   "nbconvert_exporter": "python",
   "pygments_lexer": "ipython3",
   "version": "3.8.8"
  }
 },
 "nbformat": 4,
 "nbformat_minor": 5
}
